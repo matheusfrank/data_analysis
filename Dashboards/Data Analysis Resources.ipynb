{
 "cells": [
  {
   "cell_type": "markdown",
   "metadata": {},
   "source": [
    "# Notebook For Data Analysis Roadmap\n",
    "### Matheus Frank\n",
    "\n",
    "This Notebook contains resources, notes, codes and whatever may be found useful for Data Analysis learning."
   ]
  },
  {
   "cell_type": "markdown",
   "metadata": {},
   "source": [
    "### 23/01/2025\n",
    "[LinkedIn - Introduction Data Analytics Complete Begginners](https://www.linkedin.com/pulse/introduction-data-analytics-complete-guide-beginners-thesmarthubb-ouswc/)\n",
    "\n",
    "[Carreer Found - The 4 Types of Data Analysis [Ultimate Guide]](https://careerfoundry.com/en/blog/data-analytics/different-types-of-data-analysis/)\n",
    "\n",
    "[Free Resources Data Science - Harvard](https://pll.harvard.edu/catalog?topics%5B714%5D=714&max_price=&start_date=&keywords=)"
   ]
  },
  {
   "cell_type": "markdown",
   "metadata": {},
   "source": [
    "### Auxílio Financeiro Coursera:\n",
    "#### Ensino Superior Incompleto\n",
    "#### Rendimento Anual : R$19.200,00\n",
    "#### Meio Período\n",
    "\n",
    "#### Por que você está se candidatando ao auxílio financeiro?\n",
    "Olá, meu nome é Matheus Coelho Frank, tenho 30 anos de idade, estou vencendo a depressão e tentando dar a volta por cima em minha vida. No momento trabalho como garçom aos finais de semana e estudo Física na Universidade Federal do Rio Grande do Sul durante a semana.\n",
    "Estou me candidatando ao auxílio financeiro porque quero melhorar de vida pela educação e infelizmente não tenho condição de pagar os valores do curso. Os $49,00USD cobrados pelo curso equivalem a R$286,65, cerca de 18% da minha renda mensal, que já é totalmente comprometida com meu custo de vida. Logo, seria impossível para mim pagar este valor, mesmo que quisesse.  \n",
    "Além disso, não há empregos nem estágios de Física em Porto Alegre, cidade onde moro, mas o mercado de Análise de Dados está forte e possui muitas oportunidades remotas. Por isso, almejo conquistar uma vaga de emprego como Analista de Dados e sei que esse curso da IBM será o passo certo nessa jornada. \n",
    "Portanto, peço esse Auxílio Financeiro porque deposito no Coursera uma esperança de uma vida melhor, mais digna e menos extenuante. Nesse sentido, o compromisso de vocês com a comunidade e com aqueles em situação financeira desfavorável é louvável e imensamente apreciado.\n",
    "\n",
    "#### Como o curso selecionado ajudará com suas metas?\n",
    "Estou seguindo roadmaps online como roadmap.sh para tentar guiar os estudos. Mas no momento não encontro informações de qualidade sobre o tema, ou quando as encontro estão esparsas, de maneira desestruturada, desconexas ou são pagas. Estas últimas não tenho como acessar pois não tenho dinheiro. Todavia projetos guiados, textos, vídeo-aulas e exercícios para praticar novas habilidades são vitais para praticar e adquirir core skills.  E este conteúdo de qualidade só está disponível em sites pagos, como Datacamp, Udemy,  EdX, Coursera e etc. Essa barreira financeira, impossibilita que eu estude efetivamente e me capacite profissionalmente. Nesse sentido, o curso me ajudará a alavancar o início deminha carreira como analista de dados, fornecendo uma base estruturada de estudos, material de qualidade, projetos e até um guia profissional. Isso é indispensável para meu sucesso na profissão, o que, por sua vez, tornará minha vida e de minha família melhor. Portanto peço que aprovem minha solicitação de auxílio financeiro.  "
   ]
  },
  {
   "cell_type": "markdown",
   "metadata": {},
   "source": []
  }
 ],
 "metadata": {
  "language_info": {
   "name": "python"
  }
 },
 "nbformat": 4,
 "nbformat_minor": 2
}
